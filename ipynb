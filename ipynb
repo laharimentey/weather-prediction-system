{
  "nbformat": 4,
  "nbformat_minor": 0,
  "metadata": {
    "colab": {
      "name": "forecast.ipynb",
      "provenance": [],
      "collapsed_sections": []
    },
    "kernelspec": {
      "name": "python3",
      "display_name": "Python 3"
    },
    "language_info": {
      "name": "python"
    }
  },
  "cells": [
    {
      "cell_type": "markdown",
      "metadata": {
        "id": "OLwA-XUbaRIw"
      },
      "source": [
        "# Importing Needed Packages"
      ]
    },
    {
      "cell_type": "code",
      "metadata": {
        "id": "LiBvwD-vtkFe"
      },
      "source": [
        "import warnings\n",
        "warnings.filterwarnings('ignore')\n",
        "import numpy as np\n",
        "import pandas as pd\n",
        "import matplotlib.pyplot as plt\n",
        "\n",
        "import sklearn\n",
        "from sklearn.model_selection import train_test_split\n",
        "from sklearn.metrics import accuracy_score\n",
        "from sklearn.linear_model import LinearRegression\n",
        "from sklearn import preprocessing\n",
        "\n",
        "%matplotlib inline"
      ],
      "execution_count": null,
      "outputs": []
    },
    {
      "cell_type": "markdown",
      "metadata": {
        "id": "_P3UIxtga5ZZ"
      },
      "source": [
        "# Reading CSV file as weather_df and making date_time column as index of dataframe"
      ]
    },
    {
      "cell_type": "code",
      "metadata": {
        "colab": {
          "base_uri": "https://localhost:8080/",
          "height": 418
        },
        "id": "IrgauQnRtsaU",
        "outputId": "0b2f3eab-866d-47d1-c953-44693cda1039"
      },
      "source": [
        "weather_df = pd.read_csv('kanpur.csv', parse_dates=['date_time'], index_col='date_time')\n",
        "weather_df.head(5)"
      ],
      "execution_count": null,
      "outputs": [
        {
          "output_type": "execute_result",
          "data": {
            "text/html": [
              "<div>\n",
              "<style scoped>\n",
              "    .dataframe tbody tr th:only-of-type {\n",
              "        vertical-align: middle;\n",
              "    }\n",
              "\n",
              "    .dataframe tbody tr th {\n",
              "        vertical-align: top;\n",
              "    }\n",
              "\n",
              "    .dataframe thead th {\n",
              "        text-align: right;\n",
              "    }\n",
              "</style>\n",
              "<table border=\"1\" class=\"dataframe\">\n",
              "  <thead>\n",
              "    <tr style=\"text-align: right;\">\n",
              "      <th></th>\n",
              "      <th>maxtempC</th>\n",
              "      <th>mintempC</th>\n",
              "      <th>totalSnow_cm</th>\n",
              "      <th>sunHour</th>\n",
              "      <th>uvIndex</th>\n",
              "      <th>uvIndex.1</th>\n",
              "      <th>moon_illumination</th>\n",
              "      <th>moonrise</th>\n",
              "      <th>moonset</th>\n",
              "      <th>sunrise</th>\n",
              "      <th>sunset</th>\n",
              "      <th>DewPointC</th>\n",
              "      <th>FeelsLikeC</th>\n",
              "      <th>HeatIndexC</th>\n",
              "      <th>WindChillC</th>\n",
              "      <th>WindGustKmph</th>\n",
              "      <th>cloudcover</th>\n",
              "      <th>humidity</th>\n",
              "      <th>precipMM</th>\n",
              "      <th>pressure</th>\n",
              "      <th>tempC</th>\n",
              "      <th>visibility</th>\n",
              "      <th>winddirDegree</th>\n",
              "      <th>windspeedKmph</th>\n",
              "    </tr>\n",
              "    <tr>\n",
              "      <th>date_time</th>\n",
              "      <th></th>\n",
              "      <th></th>\n",
              "      <th></th>\n",
              "      <th></th>\n",
              "      <th></th>\n",
              "      <th></th>\n",
              "      <th></th>\n",
              "      <th></th>\n",
              "      <th></th>\n",
              "      <th></th>\n",
              "      <th></th>\n",
              "      <th></th>\n",
              "      <th></th>\n",
              "      <th></th>\n",
              "      <th></th>\n",
              "      <th></th>\n",
              "      <th></th>\n",
              "      <th></th>\n",
              "      <th></th>\n",
              "      <th></th>\n",
              "      <th></th>\n",
              "      <th></th>\n",
              "      <th></th>\n",
              "      <th></th>\n",
              "    </tr>\n",
              "  </thead>\n",
              "  <tbody>\n",
              "    <tr>\n",
              "      <th>2009-01-01 00:00:00</th>\n",
              "      <td>24</td>\n",
              "      <td>10</td>\n",
              "      <td>0.0</td>\n",
              "      <td>8.7</td>\n",
              "      <td>4</td>\n",
              "      <td>1</td>\n",
              "      <td>31</td>\n",
              "      <td>09:56 AM</td>\n",
              "      <td>09:45 PM</td>\n",
              "      <td>06:57 AM</td>\n",
              "      <td>05:28 PM</td>\n",
              "      <td>2</td>\n",
              "      <td>11</td>\n",
              "      <td>12</td>\n",
              "      <td>11</td>\n",
              "      <td>21</td>\n",
              "      <td>17</td>\n",
              "      <td>50</td>\n",
              "      <td>0.0</td>\n",
              "      <td>1015</td>\n",
              "      <td>11</td>\n",
              "      <td>10</td>\n",
              "      <td>320</td>\n",
              "      <td>10</td>\n",
              "    </tr>\n",
              "    <tr>\n",
              "      <th>2009-01-01 01:00:00</th>\n",
              "      <td>24</td>\n",
              "      <td>10</td>\n",
              "      <td>0.0</td>\n",
              "      <td>8.7</td>\n",
              "      <td>4</td>\n",
              "      <td>1</td>\n",
              "      <td>31</td>\n",
              "      <td>09:56 AM</td>\n",
              "      <td>09:45 PM</td>\n",
              "      <td>06:57 AM</td>\n",
              "      <td>05:28 PM</td>\n",
              "      <td>3</td>\n",
              "      <td>12</td>\n",
              "      <td>13</td>\n",
              "      <td>12</td>\n",
              "      <td>22</td>\n",
              "      <td>11</td>\n",
              "      <td>52</td>\n",
              "      <td>0.0</td>\n",
              "      <td>1015</td>\n",
              "      <td>11</td>\n",
              "      <td>10</td>\n",
              "      <td>315</td>\n",
              "      <td>11</td>\n",
              "    </tr>\n",
              "    <tr>\n",
              "      <th>2009-01-01 02:00:00</th>\n",
              "      <td>24</td>\n",
              "      <td>10</td>\n",
              "      <td>0.0</td>\n",
              "      <td>8.7</td>\n",
              "      <td>4</td>\n",
              "      <td>1</td>\n",
              "      <td>31</td>\n",
              "      <td>09:56 AM</td>\n",
              "      <td>09:45 PM</td>\n",
              "      <td>06:57 AM</td>\n",
              "      <td>05:28 PM</td>\n",
              "      <td>4</td>\n",
              "      <td>12</td>\n",
              "      <td>13</td>\n",
              "      <td>12</td>\n",
              "      <td>23</td>\n",
              "      <td>6</td>\n",
              "      <td>55</td>\n",
              "      <td>0.0</td>\n",
              "      <td>1015</td>\n",
              "      <td>11</td>\n",
              "      <td>10</td>\n",
              "      <td>310</td>\n",
              "      <td>11</td>\n",
              "    </tr>\n",
              "    <tr>\n",
              "      <th>2009-01-01 03:00:00</th>\n",
              "      <td>24</td>\n",
              "      <td>10</td>\n",
              "      <td>0.0</td>\n",
              "      <td>8.7</td>\n",
              "      <td>4</td>\n",
              "      <td>1</td>\n",
              "      <td>31</td>\n",
              "      <td>09:56 AM</td>\n",
              "      <td>09:45 PM</td>\n",
              "      <td>06:57 AM</td>\n",
              "      <td>05:28 PM</td>\n",
              "      <td>5</td>\n",
              "      <td>12</td>\n",
              "      <td>13</td>\n",
              "      <td>12</td>\n",
              "      <td>23</td>\n",
              "      <td>0</td>\n",
              "      <td>57</td>\n",
              "      <td>0.0</td>\n",
              "      <td>1015</td>\n",
              "      <td>10</td>\n",
              "      <td>10</td>\n",
              "      <td>304</td>\n",
              "      <td>12</td>\n",
              "    </tr>\n",
              "    <tr>\n",
              "      <th>2009-01-01 04:00:00</th>\n",
              "      <td>24</td>\n",
              "      <td>10</td>\n",
              "      <td>0.0</td>\n",
              "      <td>8.7</td>\n",
              "      <td>4</td>\n",
              "      <td>1</td>\n",
              "      <td>31</td>\n",
              "      <td>09:56 AM</td>\n",
              "      <td>09:45 PM</td>\n",
              "      <td>06:57 AM</td>\n",
              "      <td>05:28 PM</td>\n",
              "      <td>5</td>\n",
              "      <td>14</td>\n",
              "      <td>14</td>\n",
              "      <td>14</td>\n",
              "      <td>19</td>\n",
              "      <td>0</td>\n",
              "      <td>54</td>\n",
              "      <td>0.0</td>\n",
              "      <td>1016</td>\n",
              "      <td>11</td>\n",
              "      <td>10</td>\n",
              "      <td>302</td>\n",
              "      <td>11</td>\n",
              "    </tr>\n",
              "  </tbody>\n",
              "</table>\n",
              "</div>"
            ],
            "text/plain": [
              "                     maxtempC  mintempC  ...  winddirDegree  windspeedKmph\n",
              "date_time                                ...                              \n",
              "2009-01-01 00:00:00        24        10  ...            320             10\n",
              "2009-01-01 01:00:00        24        10  ...            315             11\n",
              "2009-01-01 02:00:00        24        10  ...            310             11\n",
              "2009-01-01 03:00:00        24        10  ...            304             12\n",
              "2009-01-01 04:00:00        24        10  ...            302             11\n",
              "\n",
              "[5 rows x 24 columns]"
            ]
          },
          "metadata": {
            "tags": []
          },
          "execution_count": 133
        }
      ]
    },
    {
      "cell_type": "markdown",
      "metadata": {
        "id": "G2aBzDI5bfg4"
      },
      "source": [
        "# Checking columns in our dataframe"
      ]
    },
    {
      "cell_type": "code",
      "metadata": {
        "colab": {
          "base_uri": "https://localhost:8080/"
        },
        "id": "2JSTSrKuv4AN",
        "outputId": "11567d9e-c53f-4a1c-ae14-f05a1749ea4f"
      },
      "source": [
        "weather_df.columns"
      ],
      "execution_count": null,
      "outputs": [
        {
          "output_type": "execute_result",
          "data": {
            "text/plain": [
              "Index(['maxtempC', 'mintempC', 'totalSnow_cm', 'sunHour', 'uvIndex',\n",
              "       'uvIndex.1', 'moon_illumination', 'moonrise', 'moonset', 'sunrise',\n",
              "       'sunset', 'DewPointC', 'FeelsLikeC', 'HeatIndexC', 'WindChillC',\n",
              "       'WindGustKmph', 'cloudcover', 'humidity', 'precipMM', 'pressure',\n",
              "       'tempC', 'visibility', 'winddirDegree', 'windspeedKmph'],\n",
              "      dtype='object')"
            ]
          },
          "metadata": {
            "tags": []
          },
          "execution_count": 134
        }
      ]
    },
    {
      "cell_type": "markdown",
      "metadata": {
        "id": "j1PU-N_dbmka"
      },
      "source": [
        "## Now shape"
      ]
    },
    {
      "cell_type": "code",
      "metadata": {
        "colab": {
          "base_uri": "https://localhost:8080/"
        },
        "id": "ghoNo7OwwAr1",
        "outputId": "23fd2c29-edb1-4f11-ed37-c9a83722d5f4"
      },
      "source": [
        "weather_df.shape"
      ],
      "execution_count": null,
      "outputs": [
        {
          "output_type": "execute_result",
          "data": {
            "text/plain": [
              "(96432, 24)"
            ]
          },
          "metadata": {
            "tags": []
          },
          "execution_count": 135
        }
      ]
    },
    {
      "cell_type": "code",
      "metadata": {
        "colab": {
          "base_uri": "https://localhost:8080/",
          "height": 314
        },
        "id": "PnxYGdbIwJxq",
        "outputId": "afd9c791-2735-4f25-d989-5f708a18d811"
      },
      "source": [
        "weather_df.describe()"
      ],
      "execution_count": null,
      "outputs": [
        {
          "output_type": "execute_result",
          "data": {
            "text/html": [
              "<div>\n",
              "<style scoped>\n",
              "    .dataframe tbody tr th:only-of-type {\n",
              "        vertical-align: middle;\n",
              "    }\n",
              "\n",
              "    .dataframe tbody tr th {\n",
              "        vertical-align: top;\n",
              "    }\n",
              "\n",
              "    .dataframe thead th {\n",
              "        text-align: right;\n",
              "    }\n",
              "</style>\n",
              "<table border=\"1\" class=\"dataframe\">\n",
              "  <thead>\n",
              "    <tr style=\"text-align: right;\">\n",
              "      <th></th>\n",
              "      <th>maxtempC</th>\n",
              "      <th>mintempC</th>\n",
              "      <th>totalSnow_cm</th>\n",
              "      <th>sunHour</th>\n",
              "      <th>uvIndex</th>\n",
              "      <th>uvIndex.1</th>\n",
              "      <th>moon_illumination</th>\n",
              "      <th>DewPointC</th>\n",
              "      <th>FeelsLikeC</th>\n",
              "      <th>HeatIndexC</th>\n",
              "      <th>WindChillC</th>\n",
              "      <th>WindGustKmph</th>\n",
              "      <th>cloudcover</th>\n",
              "      <th>humidity</th>\n",
              "      <th>precipMM</th>\n",
              "      <th>pressure</th>\n",
              "      <th>tempC</th>\n",
              "      <th>visibility</th>\n",
              "      <th>winddirDegree</th>\n",
              "      <th>windspeedKmph</th>\n",
              "    </tr>\n",
              "  </thead>\n",
              "  <tbody>\n",
              "    <tr>\n",
              "      <th>count</th>\n",
              "      <td>96432.000000</td>\n",
              "      <td>96432.000000</td>\n",
              "      <td>96432.0</td>\n",
              "      <td>96432.000000</td>\n",
              "      <td>96432.000000</td>\n",
              "      <td>96432.000000</td>\n",
              "      <td>96432.000000</td>\n",
              "      <td>96432.000000</td>\n",
              "      <td>96432.000000</td>\n",
              "      <td>96432.00000</td>\n",
              "      <td>96432.000000</td>\n",
              "      <td>96432.000000</td>\n",
              "      <td>96432.000000</td>\n",
              "      <td>96432.000000</td>\n",
              "      <td>96432.000000</td>\n",
              "      <td>96432.000000</td>\n",
              "      <td>96432.000000</td>\n",
              "      <td>96432.000000</td>\n",
              "      <td>96432.000000</td>\n",
              "      <td>96432.000000</td>\n",
              "    </tr>\n",
              "    <tr>\n",
              "      <th>mean</th>\n",
              "      <td>33.400199</td>\n",
              "      <td>22.374564</td>\n",
              "      <td>0.0</td>\n",
              "      <td>11.037805</td>\n",
              "      <td>6.877053</td>\n",
              "      <td>4.465012</td>\n",
              "      <td>46.094077</td>\n",
              "      <td>13.230629</td>\n",
              "      <td>30.735783</td>\n",
              "      <td>30.86884</td>\n",
              "      <td>29.088384</td>\n",
              "      <td>14.211766</td>\n",
              "      <td>16.993550</td>\n",
              "      <td>44.370479</td>\n",
              "      <td>0.037756</td>\n",
              "      <td>1006.217946</td>\n",
              "      <td>27.429577</td>\n",
              "      <td>9.885214</td>\n",
              "      <td>205.537270</td>\n",
              "      <td>9.734092</td>\n",
              "    </tr>\n",
              "    <tr>\n",
              "      <th>std</th>\n",
              "      <td>6.994211</td>\n",
              "      <td>7.635253</td>\n",
              "      <td>0.0</td>\n",
              "      <td>2.152973</td>\n",
              "      <td>1.551294</td>\n",
              "      <td>3.414374</td>\n",
              "      <td>31.249725</td>\n",
              "      <td>8.053778</td>\n",
              "      <td>9.320398</td>\n",
              "      <td>9.17754</td>\n",
              "      <td>8.051981</td>\n",
              "      <td>6.926605</td>\n",
              "      <td>23.150025</td>\n",
              "      <td>22.484991</td>\n",
              "      <td>0.307143</td>\n",
              "      <td>7.593850</td>\n",
              "      <td>8.459575</td>\n",
              "      <td>1.058515</td>\n",
              "      <td>104.369548</td>\n",
              "      <td>4.835331</td>\n",
              "    </tr>\n",
              "    <tr>\n",
              "      <th>min</th>\n",
              "      <td>15.000000</td>\n",
              "      <td>3.000000</td>\n",
              "      <td>0.0</td>\n",
              "      <td>4.000000</td>\n",
              "      <td>3.000000</td>\n",
              "      <td>1.000000</td>\n",
              "      <td>0.000000</td>\n",
              "      <td>-14.000000</td>\n",
              "      <td>4.000000</td>\n",
              "      <td>7.00000</td>\n",
              "      <td>4.000000</td>\n",
              "      <td>0.000000</td>\n",
              "      <td>0.000000</td>\n",
              "      <td>2.000000</td>\n",
              "      <td>0.000000</td>\n",
              "      <td>986.000000</td>\n",
              "      <td>0.000000</td>\n",
              "      <td>0.000000</td>\n",
              "      <td>0.000000</td>\n",
              "      <td>0.000000</td>\n",
              "    </tr>\n",
              "    <tr>\n",
              "      <th>25%</th>\n",
              "      <td>28.000000</td>\n",
              "      <td>16.000000</td>\n",
              "      <td>0.0</td>\n",
              "      <td>8.700000</td>\n",
              "      <td>6.000000</td>\n",
              "      <td>1.000000</td>\n",
              "      <td>18.000000</td>\n",
              "      <td>7.000000</td>\n",
              "      <td>24.000000</td>\n",
              "      <td>25.00000</td>\n",
              "      <td>24.000000</td>\n",
              "      <td>9.000000</td>\n",
              "      <td>0.000000</td>\n",
              "      <td>26.000000</td>\n",
              "      <td>0.000000</td>\n",
              "      <td>1000.000000</td>\n",
              "      <td>21.000000</td>\n",
              "      <td>10.000000</td>\n",
              "      <td>101.000000</td>\n",
              "      <td>6.000000</td>\n",
              "    </tr>\n",
              "    <tr>\n",
              "      <th>50%</th>\n",
              "      <td>34.000000</td>\n",
              "      <td>24.000000</td>\n",
              "      <td>0.0</td>\n",
              "      <td>11.600000</td>\n",
              "      <td>7.000000</td>\n",
              "      <td>5.000000</td>\n",
              "      <td>46.000000</td>\n",
              "      <td>12.000000</td>\n",
              "      <td>31.000000</td>\n",
              "      <td>31.00000</td>\n",
              "      <td>29.000000</td>\n",
              "      <td>14.000000</td>\n",
              "      <td>5.000000</td>\n",
              "      <td>42.000000</td>\n",
              "      <td>0.000000</td>\n",
              "      <td>1006.000000</td>\n",
              "      <td>28.000000</td>\n",
              "      <td>10.000000</td>\n",
              "      <td>240.000000</td>\n",
              "      <td>9.000000</td>\n",
              "    </tr>\n",
              "    <tr>\n",
              "      <th>75%</th>\n",
              "      <td>38.000000</td>\n",
              "      <td>28.000000</td>\n",
              "      <td>0.0</td>\n",
              "      <td>13.000000</td>\n",
              "      <td>8.000000</td>\n",
              "      <td>8.000000</td>\n",
              "      <td>73.000000</td>\n",
              "      <td>21.000000</td>\n",
              "      <td>38.000000</td>\n",
              "      <td>38.00000</td>\n",
              "      <td>35.000000</td>\n",
              "      <td>18.000000</td>\n",
              "      <td>27.000000</td>\n",
              "      <td>61.000000</td>\n",
              "      <td>0.000000</td>\n",
              "      <td>1013.000000</td>\n",
              "      <td>33.000000</td>\n",
              "      <td>10.000000</td>\n",
              "      <td>299.000000</td>\n",
              "      <td>12.000000</td>\n",
              "    </tr>\n",
              "    <tr>\n",
              "      <th>max</th>\n",
              "      <td>51.000000</td>\n",
              "      <td>39.000000</td>\n",
              "      <td>0.0</td>\n",
              "      <td>13.900000</td>\n",
              "      <td>11.000000</td>\n",
              "      <td>11.000000</td>\n",
              "      <td>100.000000</td>\n",
              "      <td>31.000000</td>\n",
              "      <td>65.000000</td>\n",
              "      <td>65.00000</td>\n",
              "      <td>54.000000</td>\n",
              "      <td>75.000000</td>\n",
              "      <td>100.000000</td>\n",
              "      <td>100.000000</td>\n",
              "      <td>20.600000</td>\n",
              "      <td>1024.000000</td>\n",
              "      <td>50.000000</td>\n",
              "      <td>20.000000</td>\n",
              "      <td>360.000000</td>\n",
              "      <td>47.000000</td>\n",
              "    </tr>\n",
              "  </tbody>\n",
              "</table>\n",
              "</div>"
            ],
            "text/plain": [
              "           maxtempC      mintempC  ...  winddirDegree  windspeedKmph\n",
              "count  96432.000000  96432.000000  ...   96432.000000   96432.000000\n",
              "mean      33.400199     22.374564  ...     205.537270       9.734092\n",
              "std        6.994211      7.635253  ...     104.369548       4.835331\n",
              "min       15.000000      3.000000  ...       0.000000       0.000000\n",
              "25%       28.000000     16.000000  ...     101.000000       6.000000\n",
              "50%       34.000000     24.000000  ...     240.000000       9.000000\n",
              "75%       38.000000     28.000000  ...     299.000000      12.000000\n",
              "max       51.000000     39.000000  ...     360.000000      47.000000\n",
              "\n",
              "[8 rows x 20 columns]"
            ]
          },
          "metadata": {
            "tags": []
          },
          "execution_count": 136
        }
      ]
    },
    {
      "cell_type": "markdown",
      "metadata": {
        "id": "r47ADSH6buXm"
      },
      "source": [
        "# Checking is there any null values in dataset"
      ]
    },
    {
      "cell_type": "code",
      "metadata": {
        "colab": {
          "base_uri": "https://localhost:8080/"
        },
        "id": "BTVX7wZGwY5Y",
        "outputId": "972b09ad-461b-4f14-f077-d31d66979c73"
      },
      "source": [
        "weather_df.isnull().any()"
      ],
      "execution_count": null,
      "outputs": [
        {
          "output_type": "execute_result",
          "data": {
            "text/plain": [
              "maxtempC             False\n",
              "mintempC             False\n",
              "totalSnow_cm         False\n",
              "sunHour              False\n",
              "uvIndex              False\n",
              "uvIndex.1            False\n",
              "moon_illumination    False\n",
              "moonrise             False\n",
              "moonset              False\n",
              "sunrise              False\n",
              "sunset               False\n",
              "DewPointC            False\n",
              "FeelsLikeC           False\n",
              "HeatIndexC           False\n",
              "WindChillC           False\n",
              "WindGustKmph         False\n",
              "cloudcover           False\n",
              "humidity             False\n",
              "precipMM             False\n",
              "pressure             False\n",
              "tempC                False\n",
              "visibility           False\n",
              "winddirDegree        False\n",
              "windspeedKmph        False\n",
              "dtype: bool"
            ]
          },
          "metadata": {
            "tags": []
          },
          "execution_count": 137
        }
      ]
    },
    {
      "cell_type": "markdown",
      "metadata": {
        "id": "UD0ZD9t7xp7E"
      },
      "source": [
        "### Now lets separate the feature (i.e. temperature) to be predicted from the rest of the featured. weather_x stores the rest of the dataset while weather_y has temperature column."
      ]
    },
    {
      "cell_type": "code",
      "metadata": {
        "id": "6W6_NKT9wjsA",
        "colab": {
          "base_uri": "https://localhost:8080/",
          "height": 232
        },
        "outputId": "34686c24-72ec-4d33-dced-477d4451defc"
      },
      "source": [
        "weather_df_num=weather_df.loc[:,['maxtempC','mintempC','cloudcover','humidity','tempC', 'sunHour','HeatIndexC', 'precipMM', 'pressure','windspeedKmph']]\n",
        "weather_df_num.head()"
      ],
      "execution_count": null,
      "outputs": [
        {
          "output_type": "execute_result",
          "data": {
            "text/html": [
              "<div>\n",
              "<style scoped>\n",
              "    .dataframe tbody tr th:only-of-type {\n",
              "        vertical-align: middle;\n",
              "    }\n",
              "\n",
              "    .dataframe tbody tr th {\n",
              "        vertical-align: top;\n",
              "    }\n",
              "\n",
              "    .dataframe thead th {\n",
              "        text-align: right;\n",
              "    }\n",
              "</style>\n",
              "<table border=\"1\" class=\"dataframe\">\n",
              "  <thead>\n",
              "    <tr style=\"text-align: right;\">\n",
              "      <th></th>\n",
              "      <th>maxtempC</th>\n",
              "      <th>mintempC</th>\n",
              "      <th>cloudcover</th>\n",
              "      <th>humidity</th>\n",
              "      <th>tempC</th>\n",
              "      <th>sunHour</th>\n",
              "      <th>HeatIndexC</th>\n",
              "      <th>precipMM</th>\n",
              "      <th>pressure</th>\n",
              "      <th>windspeedKmph</th>\n",
              "    </tr>\n",
              "    <tr>\n",
              "      <th>date_time</th>\n",
              "      <th></th>\n",
              "      <th></th>\n",
              "      <th></th>\n",
              "      <th></th>\n",
              "      <th></th>\n",
              "      <th></th>\n",
              "      <th></th>\n",
              "      <th></th>\n",
              "      <th></th>\n",
              "      <th></th>\n",
              "    </tr>\n",
              "  </thead>\n",
              "  <tbody>\n",
              "    <tr>\n",
              "      <th>2009-01-01 00:00:00</th>\n",
              "      <td>24</td>\n",
              "      <td>10</td>\n",
              "      <td>17</td>\n",
              "      <td>50</td>\n",
              "      <td>11</td>\n",
              "      <td>8.7</td>\n",
              "      <td>12</td>\n",
              "      <td>0.0</td>\n",
              "      <td>1015</td>\n",
              "      <td>10</td>\n",
              "    </tr>\n",
              "    <tr>\n",
              "      <th>2009-01-01 01:00:00</th>\n",
              "      <td>24</td>\n",
              "      <td>10</td>\n",
              "      <td>11</td>\n",
              "      <td>52</td>\n",
              "      <td>11</td>\n",
              "      <td>8.7</td>\n",
              "      <td>13</td>\n",
              "      <td>0.0</td>\n",
              "      <td>1015</td>\n",
              "      <td>11</td>\n",
              "    </tr>\n",
              "    <tr>\n",
              "      <th>2009-01-01 02:00:00</th>\n",
              "      <td>24</td>\n",
              "      <td>10</td>\n",
              "      <td>6</td>\n",
              "      <td>55</td>\n",
              "      <td>11</td>\n",
              "      <td>8.7</td>\n",
              "      <td>13</td>\n",
              "      <td>0.0</td>\n",
              "      <td>1015</td>\n",
              "      <td>11</td>\n",
              "    </tr>\n",
              "    <tr>\n",
              "      <th>2009-01-01 03:00:00</th>\n",
              "      <td>24</td>\n",
              "      <td>10</td>\n",
              "      <td>0</td>\n",
              "      <td>57</td>\n",
              "      <td>10</td>\n",
              "      <td>8.7</td>\n",
              "      <td>13</td>\n",
              "      <td>0.0</td>\n",
              "      <td>1015</td>\n",
              "      <td>12</td>\n",
              "    </tr>\n",
              "    <tr>\n",
              "      <th>2009-01-01 04:00:00</th>\n",
              "      <td>24</td>\n",
              "      <td>10</td>\n",
              "      <td>0</td>\n",
              "      <td>54</td>\n",
              "      <td>11</td>\n",
              "      <td>8.7</td>\n",
              "      <td>14</td>\n",
              "      <td>0.0</td>\n",
              "      <td>1016</td>\n",
              "      <td>11</td>\n",
              "    </tr>\n",
              "  </tbody>\n",
              "</table>\n",
              "</div>"
            ],
            "text/plain": [
              "                     maxtempC  mintempC  ...  pressure  windspeedKmph\n",
              "date_time                                ...                         \n",
              "2009-01-01 00:00:00        24        10  ...      1015             10\n",
              "2009-01-01 01:00:00        24        10  ...      1015             11\n",
              "2009-01-01 02:00:00        24        10  ...      1015             11\n",
              "2009-01-01 03:00:00        24        10  ...      1015             12\n",
              "2009-01-01 04:00:00        24        10  ...      1016             11\n",
              "\n",
              "[5 rows x 10 columns]"
            ]
          },
          "metadata": {
            "tags": []
          },
          "execution_count": 138
        }
      ]
    },
    {
      "cell_type": "markdown",
      "metadata": {
        "id": "toMYuEK1cbyp"
      },
      "source": [
        "# Shape of new dataframe"
      ]
    },
    {
      "cell_type": "code",
      "metadata": {
        "colab": {
          "base_uri": "https://localhost:8080/"
        },
        "id": "Y-rP7g_8K-pP",
        "outputId": "4c064614-78d5-4d32-853c-82fd79ad6632"
      },
      "source": [
        "weather_df_num.shape"
      ],
      "execution_count": null,
      "outputs": [
        {
          "output_type": "execute_result",
          "data": {
            "text/plain": [
              "(96432, 10)"
            ]
          },
          "metadata": {
            "tags": []
          },
          "execution_count": 139
        }
      ]
    },
    {
      "cell_type": "markdown",
      "metadata": {
        "id": "i--M_1_pchGz"
      },
      "source": [
        "# Columns in new dataframe"
      ]
    },
    {
      "cell_type": "code",
      "metadata": {
        "colab": {
          "base_uri": "https://localhost:8080/"
        },
        "id": "hYocntUDLBvk",
        "outputId": "18b8888a-aa2e-4771-8a3c-75d132612e63"
      },
      "source": [
        "weather_df_num.columns"
      ],
      "execution_count": null,
      "outputs": [
        {
          "output_type": "execute_result",
          "data": {
            "text/plain": [
              "Index(['maxtempC', 'mintempC', 'cloudcover', 'humidity', 'tempC', 'sunHour',\n",
              "       'HeatIndexC', 'precipMM', 'pressure', 'windspeedKmph'],\n",
              "      dtype='object')"
            ]
          },
          "metadata": {
            "tags": []
          },
          "execution_count": 140
        }
      ]
    },
    {
      "cell_type": "markdown",
      "metadata": {
        "id": "C_Wzrm07cl4A"
      },
      "source": [
        "## Ploting all the column values"
      ]
    },
    {
      "cell_type": "code",
      "metadata": {
        "colab": {
          "base_uri": "https://localhost:8080/",
          "height": 1000
        },
        "id": "AMwCkx8DNMeV",
        "outputId": "58307795-e6e3-4d13-8344-a7722a714e8b"
      },
      "source": [
        "weather_df_num.plot(subplots=True, figsize=(25,20))"
      ],
      "execution_count": null,
      "outputs": [
        {
          "output_type": "execute_result",
          "data": {
            "text/plain": [
              "array([<matplotlib.axes._subplots.AxesSubplot object at 0x7f7a8e2f1f10>,\n",
              "       <matplotlib.axes._subplots.AxesSubplot object at 0x7f7a8e02e6d0>,\n",
              "       <matplotlib.axes._subplots.AxesSubplot object at 0x7f7a8e2ee3d0>,\n",
              "       <matplotlib.axes._subplots.AxesSubplot object at 0x7f7a8dd8ded0>,\n",
              "       <matplotlib.axes._subplots.AxesSubplot object at 0x7f7a8db37310>,\n",
              "       <matplotlib.axes._subplots.AxesSubplot object at 0x7f7a8e2c3710>,\n",
              "       <matplotlib.axes._subplots.AxesSubplot object at 0x7f7a8e252b90>,\n",
              "       <matplotlib.axes._subplots.AxesSubplot object at 0x7f7a8e288ed0>,\n",
              "       <matplotlib.axes._subplots.AxesSubplot object at 0x7f7a8e288f10>,\n",
              "       <matplotlib.axes._subplots.AxesSubplot object at 0x7f7a8e1cc450>],\n",
              "      dtype=object)"
            ]
          },
          "metadata": {
            "tags": []
          },
          "execution_count": 141
        },
        {
          "output_type": "display_data",
          "data": {
            "image/png": "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
